{
 "cells": [
  {
   "cell_type": "code",
   "execution_count": 1,
   "metadata": {},
   "outputs": [
    {
     "name": "stderr",
     "output_type": "stream",
     "text": [
      "/home/evan/Documents/mev_pipe/.venv/lib/python3.12/site-packages/tqdm/auto.py:21: TqdmWarning: IProgress not found. Please update jupyter and ipywidgets. See https://ipywidgets.readthedocs.io/en/stable/user_install.html\n",
      "  from .autonotebook import tqdm as notebook_tqdm\n"
     ]
    },
    {
     "data": {
      "text/plain": [
       "polars.config.Config"
      ]
     },
     "execution_count": 1,
     "metadata": {},
     "output_type": "execute_result"
    }
   ],
   "source": [
    "import duckdb\n",
    "import polars as pl\n",
    "import lancedb\n",
    "\n",
    "# Set Polars configuration for string length and float formatting\n",
    "pl.Config.set_fmt_str_lengths(200)\n",
    "pl.Config.set_fmt_float(\"full\")"
   ]
  },
  {
   "cell_type": "code",
   "execution_count": 2,
   "metadata": {},
   "outputs": [
    {
     "name": "stdout",
     "output_type": "stream",
     "text": [
      "/home/evan/Documents/mev_pipe\n"
     ]
    },
    {
     "name": "stderr",
     "output_type": "stream",
     "text": [
      "/home/evan/Documents/mev_pipe/.venv/lib/python3.12/site-packages/IPython/core/magics/osm.py:417: UserWarning: This is now an optional IPython functionality, setting dhist requires you to install the `pickleshare` library.\n",
      "  self.shell.db['dhist'] = compress_dhist(dhist)[-100:]\n"
     ]
    }
   ],
   "source": [
    "cd ../"
   ]
  },
  {
   "cell_type": "code",
   "execution_count": 3,
   "metadata": {},
   "outputs": [],
   "source": [
    "db: lancedb.DBConnection = lancedb.connect(\"data\")"
   ]
  },
  {
   "cell_type": "code",
   "execution_count": 4,
   "metadata": {},
   "outputs": [],
   "source": [
    "txs_table = db.open_table(\"transactions\")\n",
    "bundles_table = db.open_table(\"libmev_bundles\")"
   ]
  },
  {
   "cell_type": "code",
   "execution_count": 5,
   "metadata": {},
   "outputs": [],
   "source": [
    "txs_df = txs_table.to_lance()\n",
    "bundles_df = bundles_table.to_lance()"
   ]
  },
  {
   "cell_type": "code",
   "execution_count": 7,
   "metadata": {},
   "outputs": [
    {
     "data": {
      "text/plain": [
       "┌───────────────────┐\n",
       "│ max(block_number) │\n",
       "│       int64       │\n",
       "├───────────────────┤\n",
       "│          19968874 │\n",
       "└───────────────────┘"
      ]
     },
     "execution_count": 7,
     "metadata": {},
     "output_type": "execute_result"
    }
   ],
   "source": [
    "# duckdb output format\n",
    "duckdb.sql(\"SELECT MAX(block_number) FROM txs_df\")"
   ]
  },
  {
   "cell_type": "code",
   "execution_count": 8,
   "metadata": {},
   "outputs": [
    {
     "data": {
      "text/plain": [
       "┌──────────────────┐\n",
       "│ max(\"timestamp\") │\n",
       "│      int64       │\n",
       "├──────────────────┤\n",
       "│       1716501935 │\n",
       "└──────────────────┘"
      ]
     },
     "execution_count": 8,
     "metadata": {},
     "output_type": "execute_result"
    }
   ],
   "source": [
    "# duckdb output format\n",
    "duckdb.sql(\"SELECT MAX(timestamp) FROM bundles_df\")"
   ]
  },
  {
   "cell_type": "code",
   "execution_count": 9,
   "metadata": {},
   "outputs": [
    {
     "data": {
      "text/plain": [
       "┌─────────────────────┐\n",
       "│ count(block_number) │\n",
       "│        int64        │\n",
       "├─────────────────────┤\n",
       "│             9177223 │\n",
       "└─────────────────────┘"
      ]
     },
     "execution_count": 9,
     "metadata": {},
     "output_type": "execute_result"
    }
   ],
   "source": [
    "# duckdb output format\n",
    "duckdb.sql(\"SELECT COUNT(block_number) FROM txs_df\")"
   ]
  },
  {
   "cell_type": "code",
   "execution_count": 10,
   "metadata": {},
   "outputs": [
    {
     "data": {
      "text/plain": [
       "┌────────────────────┐\n",
       "│ count(\"timestamp\") │\n",
       "│       int64        │\n",
       "├────────────────────┤\n",
       "│              33941 │\n",
       "└────────────────────┘"
      ]
     },
     "execution_count": 10,
     "metadata": {},
     "output_type": "execute_result"
    }
   ],
   "source": [
    "# duckdb output format\n",
    "duckdb.sql(\"SELECT COUNT(timestamp) FROM bundles_df\")"
   ]
  },
  {
   "cell_type": "code",
   "execution_count": 8,
   "metadata": {},
   "outputs": [
    {
     "data": {
      "text/html": [
       "<div><style>\n",
       ".dataframe > thead > tr,\n",
       ".dataframe > tbody > tr {\n",
       "  text-align: right;\n",
       "  white-space: pre-wrap;\n",
       "}\n",
       "</style>\n",
       "<small>shape: (5, 21)</small><table border=\"1\" class=\"dataframe\"><thead><tr><th>bundle_hash</th><th>block_number</th><th>timestamp</th><th>tags</th><th>tokens</th><th>token_balance_delta</th><th>txs</th><th>searcher_gas_used</th><th>bundle_gas_used</th><th>searcher_eoa</th><th>searcher_contract</th><th>searcher_txs</th><th>burned_eth</th><th>tipped_eth</th><th>burned_usdc</th><th>tipped_usdc</th><th>profit_usdc</th><th>profit_eth</th><th>profit_margin</th><th>builder_address</th><th>extra_data</th></tr><tr><td>str</td><td>i64</td><td>i64</td><td>list[str]</td><td>list[struct[2]]</td><td>struct[59]</td><td>list[str]</td><td>i64</td><td>i64</td><td>str</td><td>str</td><td>list[str]</td><td>f64</td><td>f64</td><td>f64</td><td>f64</td><td>f64</td><td>f64</td><td>f64</td><td>str</td><td>str</td></tr></thead><tbody><tr><td>&quot;0x260e8789db58f08765a92bfa3107ccfab5ef0df5ff31962552a03ed777deae4b&quot;</td><td>19884808</td><td>1715889923</td><td>[&quot;sandwich&quot;]</td><td>[{&quot;0xa0b86991c6218b36c1d19d4a2e9eb0ce3606eb48&quot;,&quot;USDC&quot;}, {&quot;0x8aec4bbdcfb451aa289bfbd3c2f4e34a44ada1be&quot;,&quot;dogwifhat&quot;}, {&quot;0xc02aaa39b223fe8d0a0e5c4f27ead9083c756cc2&quot;,&quot;WETH&quot;}]</td><td>{{0,3206347705286656,0,0,119374794256,0,4114677760,0,0,0,0,0,0,0,0,0,0,0,0,0,0,0,0,0,0,0,0,0,0,0,0,0,0,0,0,0,0,0,0,0,0,0,0,0,0,0,0,0,0,0,0,0,0,0,0,0,0,0,0,0,0},{-3206146445232970},{0,0,0},{0,0},{0,0,0,0,0,0,0,0,0,0},{0},{0},{0,0,0,0,0,0},{0,0},{0},{0},{0},{0,0},{0},{0,0},{0},{0,0,0,0,0},{0,0},{0},{0},{0,0,0,0,0,0,0},{0,0,0,0,0,0,0,0,0},{0},{0,0},{0},{0,0},{0},{0,0,0,0,0,0},{0},{0,0},{0},{0},{0,0,0},{0},{0,0,0},{0},{0},{0},{0,0,0,0,0},{0},{0,0},{0,0},{0},{0},{0},{0},{0,0,0,0},{0},{0},{0,0,0,0},{0},{0},{0,0},{0,0},{0,0},{0,0,0,0,0},{0},{0,0,0,0},{0}}</td><td>[&quot;0x03ed9338e4c38f3b9bcafc60b11d70994d522ac04efa8d029dc29a1c2d296ae5&quot;, &quot;0xd5c0cf8113c6e4b1b2b1aa44f7df669cb03e424c50f0fed52f27ad30e18926e5&quot;, &quot;0x89f295601f7ef9f3ae9ac260be442685150f97f6126ea65672c9df92af30e220&quot;]</td><td>218994</td><td>487603</td><td>&quot;0xae2fc483527b8ef99eb5d9b44875f005ba1fae13&quot;</td><td>&quot;0x6b75d8af000000e20b7a7ddf000ba900b4009a80&quot;</td><td>[&quot;0x89f295601f7ef9f3ae9ac260be442685150f97f6126ea65672c9df92af30e220&quot;, &quot;0x03ed9338e4c38f3b9bcafc60b11d70994d522ac04efa8d029dc29a1c2d296ae5&quot;]</td><td>0.001054011756501402</td><td>0.002152015313937312</td><td>3.104776744906769</td><td>6.339139065748095</td><td>0.1111508810096803</td><td>0.000037733577952707</td><td>0.01163266407199898</td><td>&quot;0x95222290dd7278aa3ddd389cc1e1d165cc4bafe5&quot;</td><td>&quot;beaverbuild.org&quot;</td></tr><tr><td>&quot;0x47537ed0c9a2aea934bbecd40d72b0c75ca9d7fd55459bf76cb40ded20dd1d10&quot;</td><td>19884807</td><td>1715889911</td><td>[&quot;backrun&quot;]</td><td>[{&quot;0xc02aaa39b223fe8d0a0e5c4f27ead9083c756cc2&quot;,&quot;WETH&quot;}, {&quot;0xdac17f958d2ee523a2206206994597c13d831ec7&quot;,&quot;USDT&quot;}, {&quot;0x38e382f74dfb84608f3c1f10187f6bef5951de93&quot;,&quot;MUBI&quot;}]</td><td>{{0,0,0,0,0,0,0,0,0,0,0,0,0,0,0,0,0,0,0,0,0,0,0,0,0,0,0,0,0,0,0,0,0,0,0,0,0,0,0,0,0,0,0,0,0,0,0,0,0,0,0,0,0,0,0,0,0,0,0,0,0},{0},{1,0,1715889911},{22848936690216315,-1491232425821879},{0,0,0,0,0,0,0,0,0,0},{0},{0},{0,0,0,0,0,0},{0,0},{0},{0},{0},{0,0},{0},{0,0},{0},{0,0,0,0,0},{0,0},{0},{0},{0,0,0,0,0,0,0},{0,0,0,0,0,0,0,0,0},{0},{0,0},{0},{0,0},{0},{0,0,0,0,0,0},{0},{0,0},{0},{0},{0,0,0},{0},{0,0,0},{0},{0},{0},{0,0,0,0,0},{0},{0,0},{0,0},{0},{0},{0},{0},{0,0,0,0},{0},{0},{0,0,0,0},{0},{0},{0,0},{0,0},{0,0},{0,0,0,0,0},{0},{0,0,0,0},{0}}</td><td>[&quot;0x9afeb92639c5f972905f0dabb2312db461264ed9e43ad3415b500493c4fc8162&quot;, &quot;0x03b0842d02509b6a6ce8a3757e92165dd74ded6c9d99f3e23ce1dbac271f2ca0&quot;, … &quot;0x96db9e872d334d65d973e6bdf7f494c9331ed5fab22fc4dca9d54f2da88617b4&quot;]</td><td>309579</td><td>961165</td><td>&quot;0xdf8adfe10d4a4d9f0fc4d3e377a6e8d5730eb40c&quot;</td><td>&quot;0x0ddc6f9ce13b985dfd730b8048014b342d1b54f7&quot;</td><td>[&quot;0x96db9e872d334d65d973e6bdf7f494c9331ed5fab22fc4dca9d54f2da88617b4&quot;]</td><td>0.001491230709931968</td><td>0.07965710166205468</td><td>4.392659059968701</td><td>234.64275981993126</td><td>62.912546026311254</td><td>0.021357705980284348</td><td>0.20835558883747626</td><td>&quot;0x95222290dd7278aa3ddd389cc1e1d165cc4bafe5&quot;</td><td>&quot;beaverbuild.org&quot;</td></tr><tr><td>&quot;0xd3b09d12d48c4e52ce0b9e4ff5cacc14d816ba1fc3bb8eee71897e4647c0d883&quot;</td><td>19884807</td><td>1715889911</td><td>[&quot;sandwich&quot;]</td><td>[{&quot;0xc02aaa39b223fe8d0a0e5c4f27ead9083c756cc2&quot;,&quot;WETH&quot;}, {&quot;0x38e382f74dfb84608f3c1f10187f6bef5951de93&quot;,&quot;MUBI&quot;}, {&quot;0xdac17f958d2ee523a2206206994597c13d831ec7&quot;,&quot;USDT&quot;}]</td><td>{{0,860229756946219008,0,0,2079749385742,1087448677701018500000,0,0,0,0,0,0,0,0,0,0,0,0,0,0,0,0,0,0,0,0,0,0,0,0,0,0,0,0,0,0,0,0,0,0,0,0,0,0,0,0,0,0,0,0,0,0,0,0,0,0,0,0,0,0,0},{-860145813719759986},{0,0,0},{0,0},{0,0,0,0,0,0,0,0,0,0},{0},{0},{0,0,0,0,0,0},{0,0},{0},{0},{0},{0,0},{0},{0,0},{0},{0,0,0,0,0},{0,0},{0},{0},{0,0,0,0,0,0,0},{0,0,0,0,0,0,0,0,0},{0},{0,0},{0},{0,0},{0},{0,0,0,0,0,0},{0},{0,0},{0},{0},{0,0,0},{0},{0,0,0},{0},{0},{0},{0,0,0,0,0},{0},{0,0},{0,0},{0},{0},{0},{0},{0,0,0,0},{0},{0},{0,0,0,0},{0},{0},{0,0},{0,0},{0,0},{0,0,0,0,0},{0},{0,0,0,0},{0}}</td><td>[&quot;0x9afeb92639c5f972905f0dabb2312db461264ed9e43ad3415b500493c4fc8162&quot;, &quot;0x03b0842d02509b6a6ce8a3757e92165dd74ded6c9d99f3e23ce1dbac271f2ca0&quot;, &quot;0x6f2a8cea93a2cdf74e6f3bd6223be56fe9dea4974e11154dcb7ee19e933d9fe4&quot;]</td><td>312784</td><td>651586</td><td>&quot;0xae2fc483527b8ef99eb5d9b44875f005ba1fae13&quot;</td><td>&quot;0x6b75d8af000000e20b7a7ddf000ba900b4009a80&quot;</td><td>[&quot;0x9afeb92639c5f972905f0dabb2312db461264ed9e43ad3415b500493c4fc8162&quot;, &quot;0x6f2a8cea93a2cdf74e6f3bd6223be56fe9dea4974e11154dcb7ee19e933d9fe4&quot;]</td><td>0.001506669077603328</td><td>0.8586370648927709</td><td>4.438135246296583</td><td>2529.253090890432</td><td>82.7425039776642</td><td>0.028089628915803008</td><td>0.03162415429266256</td><td>&quot;0x95222290dd7278aa3ddd389cc1e1d165cc4bafe5&quot;</td><td>&quot;beaverbuild.org&quot;</td></tr><tr><td>&quot;0x06ae45be743de8df0db79d3db0eb4b4e8e2477ee75279e26d9df7375ba62b222&quot;</td><td>19884806</td><td>1715889899</td><td>[&quot;backrun&quot;]</td><td>[{&quot;0xc02aaa39b223fe8d0a0e5c4f27ead9083c756cc2&quot;,&quot;WETH&quot;}, {&quot;0x5a98fcbea516cf06857215779fd812ca3bef1b32&quot;,&quot;LDO&quot;}, … {&quot;0x1ceb5cb57c4d4e2b2433641b95dd330a33185a44&quot;,&quot;KP3R&quot;}]</td><td>{{0,0,0,0,0,0,0,0,0,0,0,0,0,0,0,0,0,0,0,0,0,0,0,0,0,0,0,0,0,0,0,0,0,0,0,0,0,0,0,0,0,0,0,0,0,0,0,0,0,0,0,0,0,0,0,0,0,0,0,0,0},{0},{0,0,0},{0,0},{0,4042139751153664,0,71838064,0,0,0,0,0,0},{-3749893118484338},{0},{0,0,0,0,0,0},{0,0},{0},{0},{0},{0,0},{0},{0,0},{0},{0,0,0,0,0},{0,0},{0},{0},{0,0,0,0,0,0,0},{0,0,0,0,0,0,0,0,0},{0},{0,0},{0},{0,0},{0},{0,0,0,0,0,0},{0},{0,0},{0},{0},{0,0,0},{0},{0,0,0},{0},{0},{0},{0,0,0,0,0},{0},{0,0},{0,0},{0},{0},{0},{0},{0,0,0,0},{0},{0},{0,0,0,0},{0},{0},{0,0},{0,0},{0,0},{0,0,0,0,0},{0},{0,0,0,0},{0}}</td><td>[&quot;0x376d4a072f9a0a2a21260ed70c8224fdc4e1038dac37746e3c612384fc9aac07&quot;, &quot;0x28e5dd73e9d704e8318e0a0ecfe4c7b7a0805e9f0b3ba0329cf0dfc46bbff52f&quot;]</td><td>501671</td><td>833439</td><td>&quot;0xe75ed6f453c602bd696ce27af11565edc9b46b0d&quot;</td><td>&quot;0x00000000009e50a7ddb7a7b0e2ee6604fd120e49&quot;</td><td>[&quot;0x28e5dd73e9d704e8318e0a0ecfe4c7b7a0805e9f0b3ba0329cf0dfc46bbff52f&quot;]</td><td>0.00247399078231879</td><td>0.001275902264327484</td><td>7.2875363629867</td><td>3.758374612127182</td><td>0.8608595073521176</td><td>0.00029224670450739</td><td>0.07230000012344455</td><td>&quot;0x95222290dd7278aa3ddd389cc1e1d165cc4bafe5&quot;</td><td>&quot;beaverbuild.org&quot;</td></tr><tr><td>&quot;0x8d4d9256a557659a5e314175687fcdeda146f307a45170b27dfd2d43410a48c0&quot;</td><td>19884806</td><td>1715889899</td><td>[&quot;sandwich&quot;]</td><td>[{&quot;0x7d225c4cc612e61d26523b099b0718d03152edef&quot;,&quot;FORK&quot;}, {&quot;0xdac17f958d2ee523a2206206994597c13d831ec7&quot;,&quot;USDT&quot;}, … {&quot;0xc02aaa39b223fe8d0a0e5c4f27ead9083c756cc2&quot;,&quot;WETH&quot;}]</td><td>{{11098195492864,2398086399787008,20522950,1099511627776,319869015564,0,0,0,0,0,0,0,0,0,0,0,0,0,0,0,0,0,0,0,0,0,0,0,0,0,0,0,0,0,0,0,0,0,0,0,0,0,0,0,0,0,0,0,0,0,0,0,0,0,0,0,0,0,0,0,0},{-9148910822168544},{0,0,0},{0,0},{0,0,0,0,0,0,0,0,0,0},{0},{0},{0,0,0,0,0,0},{0,0},{0},{0},{0},{0,0},{0},{0,0},{0},{0,0,0,0,0},{0,0},{0},{0},{0,0,0,0,0,0,0},{0,0,0,0,0,0,0,0,0},{0},{0,0},{0},{0,0},{0},{0,0,0,0,0,0},{0},{0,0},{0},{0},{0,0,0},{0},{0,0,0},{0},{0},{0},{0,0,0,0,0},{0},{0,0},{0,0},{0},{0},{0},{0},{0,0,0,0},{0},{0},{0,0,0,0},{0},{0},{0,0},{0,0},{0,0},{0,0,0,0,0},{0},{0,0,0,0},{0}}</td><td>[&quot;0x193ab2b57e4660dc7eb3ceb588dbbae504f39afd82966ed743b03f2c550e4241&quot;, &quot;0x5f73a83b536d8b9291836afb43db883ebb63f9bc7145d262fa25f405a065af29&quot;, … &quot;0x65e3aba51df8ba790924e6fe94252fab33280b65374c7065e6da31c8d9e56862&quot;]</td><td>363423</td><td>927811</td><td>&quot;0xae2fc483527b8ef99eb5d9b44875f005ba1fae13&quot;</td><td>&quot;0x6b75d8af000000e20b7a7ddf000ba900b4009a80&quot;</td><td>[&quot;0x65e3aba51df8ba790924e6fe94252fab33280b65374c7065e6da31c8d9e56862&quot;, &quot;0x193ab2b57e4660dc7eb3ceb588dbbae504f39afd82966ed743b03f2c550e4241&quot;]</td><td>0.00179222070257727</td><td>0.00735637025057571</td><td>5.279273323843146</td><td>21.66936759983291</td><td>0.6944317151342468</td><td>0.000235747387953732</td><td>0.025121364915102785</td><td>&quot;0x95222290dd7278aa3ddd389cc1e1d165cc4bafe5&quot;</td><td>&quot;beaverbuild.org&quot;</td></tr></tbody></table></div>"
      ],
      "text/plain": [
       "shape: (5, 21)\n",
       "┌───────────┬───────────┬───────────┬───────────┬───┬───────────┬───────────┬───────────┬──────────┐\n",
       "│ bundle_ha ┆ block_num ┆ timestamp ┆ tags      ┆ … ┆ profit_et ┆ profit_ma ┆ builder_a ┆ extra_da │\n",
       "│ sh        ┆ ber       ┆ ---       ┆ ---       ┆   ┆ h         ┆ rgin      ┆ ddress    ┆ ta       │\n",
       "│ ---       ┆ ---       ┆ i64       ┆ list[str] ┆   ┆ ---       ┆ ---       ┆ ---       ┆ ---      │\n",
       "│ str       ┆ i64       ┆           ┆           ┆   ┆ f64       ┆ f64       ┆ str       ┆ str      │\n",
       "╞═══════════╪═══════════╪═══════════╪═══════════╪═══╪═══════════╪═══════════╪═══════════╪══════════╡\n",
       "│ 0x260e878 ┆ 19884808  ┆ 171588992 ┆ [\"sandwic ┆ … ┆ 0.0000377 ┆ 0.0116326 ┆ 0x9522229 ┆ beaverbu │\n",
       "│ 9db58f087 ┆           ┆ 3         ┆ h\"]       ┆   ┆ 335779527 ┆ 640719989 ┆ 0dd7278aa ┆ ild.org  │\n",
       "│ 65a92bfa3 ┆           ┆           ┆           ┆   ┆ 07        ┆ 8         ┆ 3ddd389cc ┆          │\n",
       "│ 107ccfab5 ┆           ┆           ┆           ┆   ┆           ┆           ┆ 1e1d165cc ┆          │\n",
       "│ ef0df5ff3 ┆           ┆           ┆           ┆   ┆           ┆           ┆ 4bafe5    ┆          │\n",
       "│ 1962552a0 ┆           ┆           ┆           ┆   ┆           ┆           ┆           ┆          │\n",
       "│ 3ed777dea ┆           ┆           ┆           ┆   ┆           ┆           ┆           ┆          │\n",
       "│ e4b       ┆           ┆           ┆           ┆   ┆           ┆           ┆           ┆          │\n",
       "│ 0x47537ed ┆ 19884807  ┆ 171588991 ┆ [\"backrun ┆ … ┆ 0.0213577 ┆ 0.2083555 ┆ 0x9522229 ┆ beaverbu │\n",
       "│ 0c9a2aea9 ┆           ┆ 1         ┆ \"]        ┆   ┆ 059802843 ┆ 888374762 ┆ 0dd7278aa ┆ ild.org  │\n",
       "│ 34bbecd40 ┆           ┆           ┆           ┆   ┆ 48        ┆ 6         ┆ 3ddd389cc ┆          │\n",
       "│ d72b0c75c ┆           ┆           ┆           ┆   ┆           ┆           ┆ 1e1d165cc ┆          │\n",
       "│ a9d7fd554 ┆           ┆           ┆           ┆   ┆           ┆           ┆ 4bafe5    ┆          │\n",
       "│ 59bf76cb4 ┆           ┆           ┆           ┆   ┆           ┆           ┆           ┆          │\n",
       "│ 0ded20dd1 ┆           ┆           ┆           ┆   ┆           ┆           ┆           ┆          │\n",
       "│ d10       ┆           ┆           ┆           ┆   ┆           ┆           ┆           ┆          │\n",
       "│ 0xd3b09d1 ┆ 19884807  ┆ 171588991 ┆ [\"sandwic ┆ … ┆ 0.0280896 ┆ 0.0316241 ┆ 0x9522229 ┆ beaverbu │\n",
       "│ 2d48c4e52 ┆           ┆ 1         ┆ h\"]       ┆   ┆ 289158030 ┆ 542926625 ┆ 0dd7278aa ┆ ild.org  │\n",
       "│ ce0b9e4ff ┆           ┆           ┆           ┆   ┆ 08        ┆ 6         ┆ 3ddd389cc ┆          │\n",
       "│ 5cacc14d8 ┆           ┆           ┆           ┆   ┆           ┆           ┆ 1e1d165cc ┆          │\n",
       "│ 16ba1fc3b ┆           ┆           ┆           ┆   ┆           ┆           ┆ 4bafe5    ┆          │\n",
       "│ b8eee7189 ┆           ┆           ┆           ┆   ┆           ┆           ┆           ┆          │\n",
       "│ 7e4647c0d ┆           ┆           ┆           ┆   ┆           ┆           ┆           ┆          │\n",
       "│ 883       ┆           ┆           ┆           ┆   ┆           ┆           ┆           ┆          │\n",
       "│ 0x06ae45b ┆ 19884806  ┆ 171588989 ┆ [\"backrun ┆ … ┆ 0.0002922 ┆ 0.0723000 ┆ 0x9522229 ┆ beaverbu │\n",
       "│ e743de8df ┆           ┆ 9         ┆ \"]        ┆   ┆ 467045073 ┆ 001234445 ┆ 0dd7278aa ┆ ild.org  │\n",
       "│ 0db79d3db ┆           ┆           ┆           ┆   ┆ 9         ┆ 5         ┆ 3ddd389cc ┆          │\n",
       "│ 0eb4b4e8e ┆           ┆           ┆           ┆   ┆           ┆           ┆ 1e1d165cc ┆          │\n",
       "│ 2477ee752 ┆           ┆           ┆           ┆   ┆           ┆           ┆ 4bafe5    ┆          │\n",
       "│ 79e26d9df ┆           ┆           ┆           ┆   ┆           ┆           ┆           ┆          │\n",
       "│ 7375ba62b ┆           ┆           ┆           ┆   ┆           ┆           ┆           ┆          │\n",
       "│ 222       ┆           ┆           ┆           ┆   ┆           ┆           ┆           ┆          │\n",
       "│ 0x8d4d925 ┆ 19884806  ┆ 171588989 ┆ [\"sandwic ┆ … ┆ 0.0002357 ┆ 0.0251213 ┆ 0x9522229 ┆ beaverbu │\n",
       "│ 6a557659a ┆           ┆ 9         ┆ h\"]       ┆   ┆ 473879537 ┆ 649151027 ┆ 0dd7278aa ┆ ild.org  │\n",
       "│ 5e3141756 ┆           ┆           ┆           ┆   ┆ 32        ┆ 85        ┆ 3ddd389cc ┆          │\n",
       "│ 87fcdeda1 ┆           ┆           ┆           ┆   ┆           ┆           ┆ 1e1d165cc ┆          │\n",
       "│ 46f307a45 ┆           ┆           ┆           ┆   ┆           ┆           ┆ 4bafe5    ┆          │\n",
       "│ 170b27dfd ┆           ┆           ┆           ┆   ┆           ┆           ┆           ┆          │\n",
       "│ 2d43410a4 ┆           ┆           ┆           ┆   ┆           ┆           ┆           ┆          │\n",
       "│ 8c0       ┆           ┆           ┆           ┆   ┆           ┆           ┆           ┆          │\n",
       "└───────────┴───────────┴───────────┴───────────┴───┴───────────┴───────────┴───────────┴──────────┘"
      ]
     },
     "execution_count": 8,
     "metadata": {},
     "output_type": "execute_result"
    }
   ],
   "source": [
    "bundles_df.head(5)"
   ]
  },
  {
   "cell_type": "code",
   "execution_count": null,
   "metadata": {},
   "outputs": [],
   "source": []
  },
  {
   "cell_type": "code",
   "execution_count": null,
   "metadata": {},
   "outputs": [],
   "source": []
  },
  {
   "cell_type": "code",
   "execution_count": null,
   "metadata": {},
   "outputs": [],
   "source": []
  },
  {
   "cell_type": "code",
   "execution_count": null,
   "metadata": {},
   "outputs": [],
   "source": []
  },
  {
   "cell_type": "code",
   "execution_count": null,
   "metadata": {},
   "outputs": [],
   "source": []
  },
  {
   "cell_type": "code",
   "execution_count": null,
   "metadata": {},
   "outputs": [],
   "source": []
  },
  {
   "cell_type": "code",
   "execution_count": null,
   "metadata": {},
   "outputs": [],
   "source": []
  },
  {
   "cell_type": "markdown",
   "metadata": {},
   "source": [
    "OLD, but don't touch "
   ]
  },
  {
   "cell_type": "code",
   "execution_count": 9,
   "metadata": {},
   "outputs": [],
   "source": [
    "mempool_table: lancedb.table = db.open_table(\"mempool\")  # .to_lance()"
   ]
  },
  {
   "cell_type": "code",
   "execution_count": 12,
   "metadata": {},
   "outputs": [],
   "source": [
    "mempool_df: pl.DataFrame = mempool_table.to_polars().collect()"
   ]
  },
  {
   "cell_type": "code",
   "execution_count": 8,
   "metadata": {},
   "outputs": [
    {
     "ename": "NameError",
     "evalue": "name 'mempool_df' is not defined",
     "output_type": "error",
     "traceback": [
      "\u001b[0;31m---------------------------------------------------------------------------\u001b[0m",
      "\u001b[0;31mNameError\u001b[0m                                 Traceback (most recent call last)",
      "Cell \u001b[0;32mIn[8], line 1\u001b[0m\n\u001b[0;32m----> 1\u001b[0m \u001b[43mmempool_df\u001b[49m\u001b[38;5;241m.\u001b[39mhead(\u001b[38;5;241m5\u001b[39m)\n",
      "\u001b[0;31mNameError\u001b[0m: name 'mempool_df' is not defined"
     ]
    }
   ],
   "source": [
    "mempool_df.shape"
   ]
  },
  {
   "cell_type": "code",
   "execution_count": 15,
   "metadata": {},
   "outputs": [
    {
     "data": {
      "text/html": [
       "<div><style>\n",
       ".dataframe > thead > tr,\n",
       ".dataframe > tbody > tr {\n",
       "  text-align: right;\n",
       "  white-space: pre-wrap;\n",
       "}\n",
       "</style>\n",
       "<small>shape: (5, 19)</small><table border=\"1\" class=\"dataframe\"><thead><tr><th>timestamp</th><th>hash</th><th>chainId</th><th>txType</th><th>from</th><th>to</th><th>value</th><th>nonce</th><th>gas</th><th>gasPrice</th><th>gasTipCap</th><th>gasFeeCap</th><th>dataSize</th><th>data4Bytes</th><th>sources</th><th>includedAtBlockHeight</th><th>includedBlockTimestamp</th><th>inclusionDelayMs</th><th>rawTx</th></tr><tr><td>datetime[ms]</td><td>str</td><td>str</td><td>i64</td><td>str</td><td>str</td><td>str</td><td>str</td><td>str</td><td>str</td><td>str</td><td>str</td><td>i64</td><td>str</td><td>list[str]</td><td>i64</td><td>datetime[ms]</td><td>i64</td><td>binary</td></tr></thead><tbody><tr><td>2024-05-20 00:00:00.003</td><td>&quot;0x19ceac887a7bce5dded72fd7e2d8…</td><td>&quot;1&quot;</td><td>2</td><td>&quot;0x2cf6b9664cd14eed0f88a1650bbf…</td><td>&quot;0x32400084c286cf3e17e7b677ea95…</td><td>&quot;948131678590667578&quot;</td><td>&quot;20&quot;</td><td>&quot;134886&quot;</td><td>&quot;6520900326&quot;</td><td>&quot;1500000000&quot;</td><td>&quot;6520900326&quot;</td><td>292</td><td>&quot;0xeb672419&quot;</td><td>[&quot;bloxroute&quot;, &quot;chainbound&quot;, … &quot;mempoolguru&quot;]</td><td>19907420</td><td>2024-05-20 00:00:11</td><td>10997</td><td>b&quot;\\x02\\xf9\\x01\\x9a\\x01\\x14\\x84Yh/\\x00\\x85\\x01\\x84\\xad\\x0a\\xe6\\x83\\x02\\x0e\\xe6\\x942@\\x00\\x84\\xc2\\x86\\xcf&gt;\\x17\\xe7\\xb6w\\xea\\x95\\x83\\xe6\\x0a\\x00\\x03$\\x88\\x0d(p\\xbc\\xfe\\xb1\\x0b:\\xb9\\x01$\\xebg$\\x19\\x00\\x00&quot;...</td></tr><tr><td>2024-05-20 00:00:00.040</td><td>&quot;0x663cc3bb11aa02214b0abfbc8757…</td><td>&quot;1&quot;</td><td>2</td><td>&quot;0xe966fbc70c1556cba03774603558…</td><td>&quot;0x514bfc20b1cccbb786b0ca25f5cc…</td><td>&quot;12900000000000000&quot;</td><td>&quot;1902&quot;</td><td>&quot;21000&quot;</td><td>&quot;4271187283&quot;</td><td>&quot;23868843&quot;</td><td>&quot;4271187283&quot;</td><td>0</td><td>null</td><td>[&quot;chainbound&quot;, &quot;local&quot;, … &quot;bloxroute&quot;]</td><td>19907420</td><td>2024-05-20 00:00:11</td><td>10960</td><td>b&quot;\\x02\\xf8s\\x01\\x82\\x07n\\x84\\x01l5\\xab\\x84\\xfe\\x95%S\\x82R\\x08\\x94QK\\xfc\\x20\\xb1\\xcc\\xcb\\xb7\\x86\\xb0\\xca%\\xf5\\xcc\\x8c\\xad\\xf2k\\x80H\\x87-\\xd4{M\\x9a@\\x00\\x80\\xc0\\x80\\xa0\\x87{[\\xcc\\xf6\\x88z&quot;...</td></tr><tr><td>2024-05-20 00:00:00.045</td><td>&quot;0x94e4c1b195d91376d0ea5785bf55…</td><td>&quot;1&quot;</td><td>2</td><td>&quot;0xa48ea6714fc7248f2d44bb0f7e9f…</td><td>&quot;0x4945ce2d1b5bd904cac839b7fdab…</td><td>&quot;92285220602053000&quot;</td><td>&quot;0&quot;</td><td>&quot;21000&quot;</td><td>&quot;5656161807&quot;</td><td>&quot;5656161807&quot;</td><td>&quot;5656161807&quot;</td><td>0</td><td>null</td><td>[&quot;chainbound&quot;, &quot;local&quot;, … &quot;bloxroute&quot;]</td><td>19907420</td><td>2024-05-20 00:00:11</td><td>10955</td><td>b&quot;\\x02\\xf8t\\x01\\x80\\x85\\x01Q&quot;.\\x0f\\x85\\x01Q&quot;.\\x0f\\x82R\\x08\\x94IE\\xce-\\x1b[\\xd9\\x04\\xca\\xc89\\xb7\\xfd\\xab\\xaf\\xd1\\x9c\\xab\\x98+\\x88\\x01G\\xdc\\xebP\\x01\\x01\\x88\\x80\\xc0\\x01\\xa0e\\xbd\\xe1\\xd3I\\x87&quot;...</td></tr><tr><td>2024-05-20 00:00:00.102</td><td>&quot;0x88a0e99c3bf0e5ee72c13e52b078…</td><td>&quot;1&quot;</td><td>2</td><td>&quot;0x73540df3ac4e55275fbe97f385ac…</td><td>&quot;0x881d40237659c251811cec9c364e…</td><td>&quot;0&quot;</td><td>&quot;164&quot;</td><td>&quot;264088&quot;</td><td>&quot;5746903136&quot;</td><td>&quot;56549433&quot;</td><td>&quot;5746903136&quot;</td><td>646</td><td>&quot;0x5f575529&quot;</td><td>[&quot;chainbound&quot;, &quot;eden&quot;, … &quot;bloxroute&quot;]</td><td>19907420</td><td>2024-05-20 00:00:11</td><td>10898</td><td>b&quot;\\x02\\xf9\\x02\\xf5\\x01\\x81\\xa4\\x84\\x03^\\xe09\\x85\\x01V\\x8a\\xc8`\\x83\\x04\\x07\\x98\\x94\\x88\\x1d@#vY\\xc2Q\\x81\\x1c\\xec\\x9c6N\\xf9\\x1d\\xc0\\x8d0\\x0c\\x80\\xb9\\x02\\x86_WU)\\x00\\x00\\x00\\x00\\x00\\x00\\x00\\x00\\x00&quot;...</td></tr><tr><td>2024-05-20 00:00:00.154</td><td>&quot;0xbe6de899d541d003328e0585620c…</td><td>&quot;1&quot;</td><td>2</td><td>&quot;0xb0999731f7c2581844658a9d2ced…</td><td>&quot;0x2ff99ee6b22aedaefd8fd12497e5…</td><td>&quot;13699123675554730542&quot;</td><td>&quot;133&quot;</td><td>&quot;159694&quot;</td><td>&quot;6835483843&quot;</td><td>&quot;3000000000&quot;</td><td>&quot;6835483843&quot;</td><td>644</td><td>&quot;0xb9e9a5ef&quot;</td><td>[&quot;chainbound&quot;, &quot;local&quot;, … &quot;bloxroute&quot;]</td><td>19907420</td><td>2024-05-20 00:00:11</td><td>10846</td><td>b&quot;\\x02\\xf9\\x02\\xfb\\x01\\x81\\x85\\x84\\xb2\\xd0^\\x00\\x85\\x01\\x97m4\\xc3\\x83\\x02o\\xce\\x94/\\xf9\\x9e\\xe6\\xb2*\\xed\\xae\\xfd\\x8f\\xd1$\\x97\\xe5\\x04\\xb1\\x89\\x83\\xcb\\x14\\x88\\xbe\\x1d\\x10f\\xdf\\x95R.\\xb9\\x02\\x84\\xb9\\xe9\\xa5\\xef\\x00&quot;...</td></tr></tbody></table></div>"
      ],
      "text/plain": [
       "shape: (5, 19)\n",
       "┌────────────┬────────────┬─────────┬────────┬───┬────────────┬────────────┬───────────┬───────────┐\n",
       "│ timestamp  ┆ hash       ┆ chainId ┆ txType ┆ … ┆ includedAt ┆ includedBl ┆ inclusion ┆ rawTx     │\n",
       "│ ---        ┆ ---        ┆ ---     ┆ ---    ┆   ┆ BlockHeigh ┆ ockTimesta ┆ DelayMs   ┆ ---       │\n",
       "│ datetime[m ┆ str        ┆ str     ┆ i64    ┆   ┆ t          ┆ mp         ┆ ---       ┆ binary    │\n",
       "│ s]         ┆            ┆         ┆        ┆   ┆ ---        ┆ ---        ┆ i64       ┆           │\n",
       "│            ┆            ┆         ┆        ┆   ┆ i64        ┆ datetime[m ┆           ┆           │\n",
       "│            ┆            ┆         ┆        ┆   ┆            ┆ s]         ┆           ┆           │\n",
       "╞════════════╪════════════╪═════════╪════════╪═══╪════════════╪════════════╪═══════════╪═══════════╡\n",
       "│ 2024-05-20 ┆ 0x19ceac88 ┆ 1       ┆ 2      ┆ … ┆ 19907420   ┆ 2024-05-20 ┆ 10997     ┆ b\"\\x02\\xf │\n",
       "│ 00:00:00.0 ┆ 7a7bce5dde ┆         ┆        ┆   ┆            ┆ 00:00:11   ┆           ┆ 9\\x01\\x9a │\n",
       "│ 03         ┆ d72fd7e2d8 ┆         ┆        ┆   ┆            ┆            ┆           ┆ \\x01\\x14\\ │\n",
       "│            ┆ …          ┆         ┆        ┆   ┆            ┆            ┆           ┆ x84…      │\n",
       "│ 2024-05-20 ┆ 0x663cc3bb ┆ 1       ┆ 2      ┆ … ┆ 19907420   ┆ 2024-05-20 ┆ 10960     ┆ b\"\\x02\\xf │\n",
       "│ 00:00:00.0 ┆ 11aa02214b ┆         ┆        ┆   ┆            ┆ 00:00:11   ┆           ┆ 8s\\x01\\x8 │\n",
       "│ 40         ┆ 0abfbc8757 ┆         ┆        ┆   ┆            ┆            ┆           ┆ 2\\x07n\\x8 │\n",
       "│            ┆ …          ┆         ┆        ┆   ┆            ┆            ┆           ┆ 4\\x…      │\n",
       "│ 2024-05-20 ┆ 0x94e4c1b1 ┆ 1       ┆ 2      ┆ … ┆ 19907420   ┆ 2024-05-20 ┆ 10955     ┆ b\"\\x02\\xf │\n",
       "│ 00:00:00.0 ┆ 95d91376d0 ┆         ┆        ┆   ┆            ┆ 00:00:11   ┆           ┆ 8t\\x01\\x8 │\n",
       "│ 45         ┆ ea5785bf55 ┆         ┆        ┆   ┆            ┆            ┆           ┆ 0\\x85\\x01 │\n",
       "│            ┆ …          ┆         ┆        ┆   ┆            ┆            ┆           ┆ Q\".…      │\n",
       "│ 2024-05-20 ┆ 0x88a0e99c ┆ 1       ┆ 2      ┆ … ┆ 19907420   ┆ 2024-05-20 ┆ 10898     ┆ b\"\\x02\\xf │\n",
       "│ 00:00:00.1 ┆ 3bf0e5ee72 ┆         ┆        ┆   ┆            ┆ 00:00:11   ┆           ┆ 9\\x02\\xf5 │\n",
       "│ 02         ┆ c13e52b078 ┆         ┆        ┆   ┆            ┆            ┆           ┆ \\x01\\x81\\ │\n",
       "│            ┆ …          ┆         ┆        ┆   ┆            ┆            ┆           ┆ xa4…      │\n",
       "│ 2024-05-20 ┆ 0xbe6de899 ┆ 1       ┆ 2      ┆ … ┆ 19907420   ┆ 2024-05-20 ┆ 10846     ┆ b\"\\x02\\xf │\n",
       "│ 00:00:00.1 ┆ d541d00332 ┆         ┆        ┆   ┆            ┆ 00:00:11   ┆           ┆ 9\\x02\\xfb │\n",
       "│ 54         ┆ 8e0585620c ┆         ┆        ┆   ┆            ┆            ┆           ┆ \\x01\\x81\\ │\n",
       "│            ┆ …          ┆         ┆        ┆   ┆            ┆            ┆           ┆ x85…      │\n",
       "└────────────┴────────────┴─────────┴────────┴───┴────────────┴────────────┴───────────┴───────────┘"
      ]
     },
     "execution_count": 15,
     "metadata": {},
     "output_type": "execute_result"
    }
   ],
   "source": [
    "mempool_df.head(5)"
   ]
  },
  {
   "cell_type": "code",
   "execution_count": 17,
   "metadata": {},
   "outputs": [
    {
     "data": {
      "text/html": [
       "<div><style>\n",
       ".dataframe > thead > tr,\n",
       ".dataframe > tbody > tr {\n",
       "  text-align: right;\n",
       "  white-space: pre-wrap;\n",
       "}\n",
       "</style>\n",
       "<small>shape: (2_340_498, 2)</small><table border=\"1\" class=\"dataframe\"><thead><tr><th>hash</th><th>includedAtBlockHeight</th></tr><tr><td>str</td><td>i64</td></tr></thead><tbody><tr><td>&quot;0xf410ce97616706f502ee204d2b02…</td><td>19912637</td></tr><tr><td>&quot;0x56be92332966bdd03d4141877bea…</td><td>19911314</td></tr><tr><td>&quot;0xd7af3c0d43990dbe592cd6e62464…</td><td>19917057</td></tr><tr><td>&quot;0x576d745d6219a9574e297f7e37a7…</td><td>19913441</td></tr><tr><td>&quot;0x91a46e9d94ba0f9170705698d82d…</td><td>19912776</td></tr><tr><td>&hellip;</td><td>&hellip;</td></tr><tr><td>&quot;0x6c238884993ba385fa80915d480a…</td><td>19915062</td></tr><tr><td>&quot;0x39d3d7127bdac4d9b24cebf04523…</td><td>19915670</td></tr><tr><td>&quot;0x5a9303c58d127e6cbd20320a60fd…</td><td>19912215</td></tr><tr><td>&quot;0xc989af553490ff1c9add1430ff23…</td><td>19917194</td></tr><tr><td>&quot;0xe542272cca63e5e3e61a3635b731…</td><td>19913718</td></tr></tbody></table></div>"
      ],
      "text/plain": [
       "shape: (2_340_498, 2)\n",
       "┌─────────────────────────────────┬───────────────────────┐\n",
       "│ hash                            ┆ includedAtBlockHeight │\n",
       "│ ---                             ┆ ---                   │\n",
       "│ str                             ┆ i64                   │\n",
       "╞═════════════════════════════════╪═══════════════════════╡\n",
       "│ 0xf410ce97616706f502ee204d2b02… ┆ 19912637              │\n",
       "│ 0x56be92332966bdd03d4141877bea… ┆ 19911314              │\n",
       "│ 0xd7af3c0d43990dbe592cd6e62464… ┆ 19917057              │\n",
       "│ 0x576d745d6219a9574e297f7e37a7… ┆ 19913441              │\n",
       "│ 0x91a46e9d94ba0f9170705698d82d… ┆ 19912776              │\n",
       "│ …                               ┆ …                     │\n",
       "│ 0x6c238884993ba385fa80915d480a… ┆ 19915062              │\n",
       "│ 0x39d3d7127bdac4d9b24cebf04523… ┆ 19915670              │\n",
       "│ 0x5a9303c58d127e6cbd20320a60fd… ┆ 19912215              │\n",
       "│ 0xc989af553490ff1c9add1430ff23… ┆ 19917194              │\n",
       "│ 0xe542272cca63e5e3e61a3635b731… ┆ 19913718              │\n",
       "└─────────────────────────────────┴───────────────────────┘"
      ]
     },
     "execution_count": 17,
     "metadata": {},
     "output_type": "execute_result"
    }
   ],
   "source": [
    "mempool_df.select(\"hash\", \"includedAtBlockHeight\").unique()"
   ]
  },
  {
   "cell_type": "code",
   "execution_count": null,
   "metadata": {},
   "outputs": [],
   "source": []
  }
 ],
 "metadata": {
  "kernelspec": {
   "display_name": ".venv",
   "language": "python",
   "name": "python3"
  },
  "language_info": {
   "codemirror_mode": {
    "name": "ipython",
    "version": 3
   },
   "file_extension": ".py",
   "mimetype": "text/x-python",
   "name": "python",
   "nbconvert_exporter": "python",
   "pygments_lexer": "ipython3",
   "version": "3.12.2"
  }
 },
 "nbformat": 4,
 "nbformat_minor": 2
}
